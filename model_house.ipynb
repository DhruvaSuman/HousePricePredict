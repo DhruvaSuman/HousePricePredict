{
 "cells": [
  {
   "cell_type": "code",
   "execution_count": 1,
   "metadata": {
    "colab": {},
    "colab_type": "code",
    "id": "GjwCInxyLOcR"
   },
   "outputs": [],
   "source": [
    "import pandas as pd\n",
    "import numpy as np\n"
   ]
  },
  {
   "cell_type": "code",
   "execution_count": 10,
   "metadata": {
    "colab": {
     "base_uri": "https://localhost:8080/",
     "height": 218
    },
    "colab_type": "code",
    "executionInfo": {
     "elapsed": 13547,
     "status": "ok",
     "timestamp": 1557288940107,
     "user": {
      "displayName": "Yash Sharma",
      "photoUrl": "https://lh4.googleusercontent.com/-AlqkQETyfCg/AAAAAAAAAAI/AAAAAAAAAAc/JkbH3olpUXA/s64/photo.jpg",
      "userId": "09078010786860683722"
     },
     "user_tz": -330
    },
    "id": "oPjxthVeOJrz",
    "outputId": "573ba874-14ab-472e-a147-6ece93e434ba"
   },
   "outputs": [
    {
     "data": {
      "text/html": [
       "<div>\n",
       "<style scoped>\n",
       "    .dataframe tbody tr th:only-of-type {\n",
       "        vertical-align: middle;\n",
       "    }\n",
       "\n",
       "    .dataframe tbody tr th {\n",
       "        vertical-align: top;\n",
       "    }\n",
       "\n",
       "    .dataframe thead th {\n",
       "        text-align: right;\n",
       "    }\n",
       "</style>\n",
       "<table border=\"1\" class=\"dataframe\">\n",
       "  <thead>\n",
       "    <tr style=\"text-align: right;\">\n",
       "      <th></th>\n",
       "      <th>price</th>\n",
       "      <th>lotsize</th>\n",
       "      <th>bedrooms</th>\n",
       "      <th>bathrms</th>\n",
       "      <th>stories</th>\n",
       "      <th>driveway</th>\n",
       "      <th>recroom</th>\n",
       "      <th>fullbase</th>\n",
       "      <th>gashw</th>\n",
       "      <th>airco</th>\n",
       "      <th>garagepl</th>\n",
       "      <th>prefarea</th>\n",
       "    </tr>\n",
       "  </thead>\n",
       "  <tbody>\n",
       "    <tr>\n",
       "      <td>0</td>\n",
       "      <td>42000.0</td>\n",
       "      <td>5850</td>\n",
       "      <td>3</td>\n",
       "      <td>1</td>\n",
       "      <td>2</td>\n",
       "      <td>1</td>\n",
       "      <td>0</td>\n",
       "      <td>1</td>\n",
       "      <td>0</td>\n",
       "      <td>0</td>\n",
       "      <td>1</td>\n",
       "      <td>0</td>\n",
       "    </tr>\n",
       "    <tr>\n",
       "      <td>1</td>\n",
       "      <td>38500.0</td>\n",
       "      <td>4000</td>\n",
       "      <td>2</td>\n",
       "      <td>1</td>\n",
       "      <td>1</td>\n",
       "      <td>1</td>\n",
       "      <td>0</td>\n",
       "      <td>0</td>\n",
       "      <td>0</td>\n",
       "      <td>0</td>\n",
       "      <td>0</td>\n",
       "      <td>0</td>\n",
       "    </tr>\n",
       "    <tr>\n",
       "      <td>2</td>\n",
       "      <td>49500.0</td>\n",
       "      <td>3060</td>\n",
       "      <td>3</td>\n",
       "      <td>1</td>\n",
       "      <td>1</td>\n",
       "      <td>1</td>\n",
       "      <td>0</td>\n",
       "      <td>0</td>\n",
       "      <td>0</td>\n",
       "      <td>0</td>\n",
       "      <td>0</td>\n",
       "      <td>0</td>\n",
       "    </tr>\n",
       "    <tr>\n",
       "      <td>3</td>\n",
       "      <td>60500.0</td>\n",
       "      <td>6650</td>\n",
       "      <td>3</td>\n",
       "      <td>1</td>\n",
       "      <td>2</td>\n",
       "      <td>1</td>\n",
       "      <td>1</td>\n",
       "      <td>0</td>\n",
       "      <td>0</td>\n",
       "      <td>0</td>\n",
       "      <td>0</td>\n",
       "      <td>0</td>\n",
       "    </tr>\n",
       "    <tr>\n",
       "      <td>4</td>\n",
       "      <td>61000.0</td>\n",
       "      <td>6360</td>\n",
       "      <td>2</td>\n",
       "      <td>1</td>\n",
       "      <td>1</td>\n",
       "      <td>1</td>\n",
       "      <td>0</td>\n",
       "      <td>0</td>\n",
       "      <td>0</td>\n",
       "      <td>0</td>\n",
       "      <td>0</td>\n",
       "      <td>0</td>\n",
       "    </tr>\n",
       "  </tbody>\n",
       "</table>\n",
       "</div>"
      ],
      "text/plain": [
       "     price  lotsize  bedrooms  bathrms  stories  driveway  recroom  fullbase  \\\n",
       "0  42000.0     5850         3        1        2         1        0         1   \n",
       "1  38500.0     4000         2        1        1         1        0         0   \n",
       "2  49500.0     3060         3        1        1         1        0         0   \n",
       "3  60500.0     6650         3        1        2         1        1         0   \n",
       "4  61000.0     6360         2        1        1         1        0         0   \n",
       "\n",
       "   gashw  airco  garagepl  prefarea  \n",
       "0      0      0         1         0  \n",
       "1      0      0         0         0  \n",
       "2      0      0         0         0  \n",
       "3      0      0         0         0  \n",
       "4      0      0         0         0  "
      ]
     },
     "execution_count": 10,
     "metadata": {},
     "output_type": "execute_result"
    }
   ],
   "source": [
    "# Load our Dataset\n",
    "df = pd.read_csv(\"https://trello-attachments.s3.amazonaws.com/5e280f15c01ac65179d31b71/5e0762d4da7acb1bebd8439f/305d09a03f5fba051660012033746da4/Housing_Modified_prepared.csv\")\n",
    "df.head()"
   ]
  },
  {
   "cell_type": "code",
   "execution_count": 3,
   "metadata": {
    "colab": {
     "base_uri": "https://localhost:8080/",
     "height": 272
    },
    "colab_type": "code",
    "executionInfo": {
     "elapsed": 16350,
     "status": "ok",
     "timestamp": 1557288943140,
     "user": {
      "displayName": "Yash Sharma",
      "photoUrl": "https://lh4.googleusercontent.com/-AlqkQETyfCg/AAAAAAAAAAI/AAAAAAAAAAc/JkbH3olpUXA/s64/photo.jpg",
      "userId": "09078010786860683722"
     },
     "user_tz": -330
    },
    "id": "ZR_QMj7dj4eR",
    "outputId": "e2b6f9f8-980a-4a89-8823-06f9025769f0"
   },
   "outputs": [
    {
     "data": {
      "text/plain": [
       "['lotsize',\n",
       " 'bedrooms',\n",
       " 'bathrms',\n",
       " 'stories',\n",
       " 'driveway',\n",
       " 'recroom',\n",
       " 'fullbase',\n",
       " 'gashw',\n",
       " 'airco',\n",
       " 'garagepl',\n",
       " 'prefarea']"
      ]
     },
     "execution_count": 3,
     "metadata": {},
     "output_type": "execute_result"
    }
   ],
   "source": [
    "independent_variables = ['lotsize','bedrooms','bathrms','stories',\n",
    "                        'driveway','recroom','fullbase',\n",
    "                        'gashw', 'airco','garagepl','prefarea']\n",
    "\n",
    "independent_variables"
   ]
  },
  {
   "cell_type": "code",
   "execution_count": 4,
   "metadata": {
    "colab": {
     "base_uri": "https://localhost:8080/",
     "height": 146
    },
    "colab_type": "code",
    "executionInfo": {
     "elapsed": 16331,
     "status": "ok",
     "timestamp": 1557288943143,
     "user": {
      "displayName": "Yash Sharma",
      "photoUrl": "https://lh4.googleusercontent.com/-AlqkQETyfCg/AAAAAAAAAAI/AAAAAAAAAAc/JkbH3olpUXA/s64/photo.jpg",
      "userId": "09078010786860683722"
     },
     "user_tz": -330
    },
    "id": "Xey7zZAXlKzG",
    "outputId": "eda13668-ff08-4924-b0bc-9ea4e4791e8e"
   },
   "outputs": [
    {
     "name": "stdout",
     "output_type": "stream",
     "text": [
      "vif :  [8.249191967861648, 15.213540834822062, 9.393003986698718, 7.894203298300749, 6.779101692130354, 1.4656299695346027, 2.0126330017024325, 1.0880309995054263, 1.7444521034812812, 1.9417759084762032, 1.4849704877057142]\n",
      "dropping :  bedrooms at index 1\n",
      "\n",
      "Final Independent Variables :  ['lotsize', 'bathrms', 'stories', 'driveway', 'recroom', 'fullbase', 'gashw', 'airco', 'garagepl', 'prefarea']\n"
     ]
    }
   ],
   "source": [
    "# Compute MultiCollinearity\n",
    "# VIF \n",
    "\n",
    "from statsmodels.stats.outliers_influence import variance_inflation_factor\n",
    "\n",
    "X = df[independent_variables]\n",
    "y = df['price']\n",
    "\n",
    "thresh = 10  # it is an indicator of VIF\n",
    "\n",
    "for i in np.arange(0,len(independent_variables)):\n",
    "    vif = [variance_inflation_factor(X[independent_variables].values ,ix)\n",
    "    for ix in range(X[independent_variables].shape[1])]\n",
    "  \n",
    "    maxloc = vif.index(max(vif))\n",
    "  \n",
    "    if max(vif) > thresh:\n",
    "        print (\"vif : \",vif)\n",
    "        print (\"dropping : \",X[independent_variables].columns[maxloc],\"at index\",maxloc)\n",
    "        del independent_variables[maxloc]\n",
    "    \n",
    "    else:\n",
    "        break\n",
    "    \n",
    "    \n",
    "\n",
    "  \n"
   ]
  },
  {
   "cell_type": "code",
   "execution_count": 5,
   "metadata": {
    "colab": {
     "base_uri": "https://localhost:8080/",
     "height": 146
    },
    "colab_type": "code",
    "executionInfo": {
     "elapsed": 16314,
     "status": "ok",
     "timestamp": 1557288943147,
     "user": {
      "displayName": "Yash Sharma",
      "photoUrl": "https://lh4.googleusercontent.com/-AlqkQETyfCg/AAAAAAAAAAI/AAAAAAAAAAc/JkbH3olpUXA/s64/photo.jpg",
      "userId": "09078010786860683722"
     },
     "user_tz": -330
    },
    "id": "9UzRfTqfnR_Q",
    "outputId": "d591f344-9bf6-42ca-fc06-f55a43b2789f"
   },
   "outputs": [
    {
     "name": "stdout",
     "output_type": "stream",
     "text": [
      "X_train (436, 10)\n",
      "X_test (110, 10)\n",
      "y_train (436,)\n",
      "y_test (110,)\n"
     ]
    },
    {
     "name": "stderr",
     "output_type": "stream",
     "text": [
      "C:\\Users\\kumar\\AppData\\Local\\Continuum\\anaconda3\\lib\\site-packages\\sklearn\\model_selection\\_split.py:2069: FutureWarning: From version 0.21, test_size will always complement train_size unless both are specified.\n",
      "  FutureWarning)\n"
     ]
    }
   ],
   "source": [
    "independent_variables = ['lotsize', 'bathrms','stories' ,'driveway', \n",
    "                         'recroom', 'fullbase', 'gashw',\n",
    "                         'airco', 'garagepl', 'prefarea']\n",
    "\n",
    "X = df[independent_variables]\n",
    "y = df['price']\n",
    "\n",
    "# Train / Test Dataset\n",
    "\n",
    "from sklearn.model_selection import train_test_split\n",
    "\n",
    "X_train , X_test , y_train , y_test = train_test_split(X,y,train_size=.80,random_state=1)\n",
    "\n",
    "print (\"X_train\",X_train.shape)\n",
    "print (\"X_test\",X_test.shape)\n",
    "print (\"y_train\",y_train.shape)\n",
    "print (\"y_test\",y_test.shape)"
   ]
  },
  {
   "cell_type": "code",
   "execution_count": 6,
   "metadata": {
    "colab": {
     "base_uri": "https://localhost:8080/",
     "height": 710
    },
    "colab_type": "code",
    "executionInfo": {
     "elapsed": 16297,
     "status": "ok",
     "timestamp": 1557288943150,
     "user": {
      "displayName": "Yash Sharma",
      "photoUrl": "https://lh4.googleusercontent.com/-AlqkQETyfCg/AAAAAAAAAAI/AAAAAAAAAAc/JkbH3olpUXA/s64/photo.jpg",
      "userId": "09078010786860683722"
     },
     "user_tz": -330
    },
    "id": "77NA0VpeooiS",
    "outputId": "a74601c2-333a-44ec-e67a-d89dab8f1f22"
   },
   "outputs": [],
   "source": [
    "import statsmodels.api as sm\n",
    "\n",
    "# OLS --> Ordinary Least Square \n",
    "\n",
    "regression_model = sm.OLS(y_train,X_train).fit()\n",
    "#print (lm.summary())"
   ]
  },
  {
   "cell_type": "code",
   "execution_count": 7,
   "metadata": {
    "colab": {
     "base_uri": "https://localhost:8080/",
     "height": 235
    },
    "colab_type": "code",
    "executionInfo": {
     "elapsed": 16262,
     "status": "ok",
     "timestamp": 1557288943153,
     "user": {
      "displayName": "Yash Sharma",
      "photoUrl": "https://lh4.googleusercontent.com/-AlqkQETyfCg/AAAAAAAAAAI/AAAAAAAAAAc/JkbH3olpUXA/s64/photo.jpg",
      "userId": "09078010786860683722"
     },
     "user_tz": -330
    },
    "id": "cG6qcUn6nxOv",
    "outputId": "fb7bc29e-4592-4731-f780-337874ebcf31"
   },
   "outputs": [
    {
     "data": {
      "text/plain": [
       "['lotsize',\n",
       " 'bathrms',\n",
       " 'stories',\n",
       " 'driveway',\n",
       " 'recroom',\n",
       " 'fullbase',\n",
       " 'gashw',\n",
       " 'airco',\n",
       " 'garagepl',\n",
       " 'prefarea']"
      ]
     },
     "execution_count": 7,
     "metadata": {},
     "output_type": "execute_result"
    }
   ],
   "source": [
    "# Predict House Prices \n",
    "\n",
    "independent_variables"
   ]
  },
  {
   "cell_type": "code",
   "execution_count": 9,
   "metadata": {},
   "outputs": [
    {
     "name": "stdout",
     "output_type": "stream",
     "text": [
      "Enter lotsize: 3000\n",
      "Enter bathrms: 1\n",
      "Enter stories: 1\n",
      "Enter driveway: 0\n",
      "Enter recroom: 1\n",
      "Enter fullbase: 0\n",
      "Enter gashw: 1\n",
      "Enter airco: 0\n",
      "Enter garagepl: 1\n",
      "Enter prefarea: 1\n",
      "Predicted Price Of House Is :  64602.0\n"
     ]
    }
   ],
   "source": [
    "user_dict = {}\n",
    "for column in X.columns:\n",
    "    #temp_val=int(input(\"Enter \"+column+\": \"))\n",
    "    user_dict[column] =temp_val\n",
    "user_input = pd.DataFrame(user_dict, index=[0])\n",
    "predict_price = regression_model.predict(user_input)\n",
    "print (round(predict_price[0]))"
   ]
  },
  {
   "cell_type": "code",
   "execution_count": null,
   "metadata": {},
   "outputs": [],
   "source": [
    "import sys\n",
    "index_counter=1\n",
    "user_dict = {}\n",
    "for column in X.columns:\n",
    "    temp_val=sys.argv[index_counter]\n",
    "    index_counter+=1\n",
    "    user_dict[column] = temp_val\n",
    "user_input = pd.DataFrame(user_dict, index=[0])\n",
    "predict_price = regression_model.predict(user_input)\n",
    "print (round(predict_price[0]))"
   ]
  }
 ],
 "metadata": {
  "colab": {
   "collapsed_sections": [],
   "name": "Copy of MultivariateRegression_07May.ipynb",
   "provenance": [
    {
     "file_id": "1NqWFbK7ajINun1sT8SLU5ipQHUddmXSm",
     "timestamp": 1590419527471
    }
   ]
  },
  "kernelspec": {
   "display_name": "Python 3",
   "language": "python",
   "name": "python3"
  },
  "language_info": {
   "codemirror_mode": {
    "name": "ipython",
    "version": 3
   },
   "file_extension": ".py",
   "mimetype": "text/x-python",
   "name": "python",
   "nbconvert_exporter": "python",
   "pygments_lexer": "ipython3",
   "version": "3.7.4"
  }
 },
 "nbformat": 4,
 "nbformat_minor": 1
}
